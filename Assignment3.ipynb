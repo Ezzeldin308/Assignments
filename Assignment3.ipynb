{
 "cells": [
  {
   "cell_type": "code",
   "execution_count": 1,
   "metadata": {},
   "outputs": [
    {
     "data": {
      "text/plain": [
       "'C:\\\\Users\\\\Seif\\\\Desktop\\\\Ezz\\\\Semester 10 (Running)\\\\Material\\\\Machine Learning\\\\Assignments\\\\Assignment 3'"
      ]
     },
     "execution_count": 1,
     "metadata": {},
     "output_type": "execute_result"
    }
   ],
   "source": [
    "pwd"
   ]
  },
  {
   "cell_type": "code",
   "execution_count": 2,
   "metadata": {},
   "outputs": [],
   "source": [
    "import pandas as pd\n",
    "import numpy as np\n",
    "import scipy as sp\n",
    "import seaborn as sns\n",
    "from sklearn.model_selection import train_test_split\n",
    "import matplotlib.pyplot as plt"
   ]
  },
  {
   "cell_type": "code",
   "execution_count": 3,
   "metadata": {},
   "outputs": [],
   "source": [
    "complete = pd.read_csv (\"house_data_complete.csv\")"
   ]
  },
  {
   "cell_type": "code",
   "execution_count": 4,
   "metadata": {},
   "outputs": [],
   "source": [
    "complete = complete.dropna()"
   ]
  },
  {
   "cell_type": "code",
   "execution_count": 5,
   "metadata": {},
   "outputs": [
    {
     "data": {
      "text/html": [
       "<div>\n",
       "<style scoped>\n",
       "    .dataframe tbody tr th:only-of-type {\n",
       "        vertical-align: middle;\n",
       "    }\n",
       "\n",
       "    .dataframe tbody tr th {\n",
       "        vertical-align: top;\n",
       "    }\n",
       "\n",
       "    .dataframe thead th {\n",
       "        text-align: right;\n",
       "    }\n",
       "</style>\n",
       "<table border=\"1\" class=\"dataframe\">\n",
       "  <thead>\n",
       "    <tr style=\"text-align: right;\">\n",
       "      <th></th>\n",
       "      <th>id</th>\n",
       "      <th>date</th>\n",
       "      <th>price</th>\n",
       "      <th>bedrooms</th>\n",
       "      <th>bathrooms</th>\n",
       "      <th>sqft_living</th>\n",
       "      <th>sqft_lot</th>\n",
       "      <th>floors</th>\n",
       "      <th>waterfront</th>\n",
       "      <th>view</th>\n",
       "      <th>...</th>\n",
       "      <th>grade</th>\n",
       "      <th>sqft_above</th>\n",
       "      <th>sqft_basement</th>\n",
       "      <th>yr_built</th>\n",
       "      <th>yr_renovated</th>\n",
       "      <th>zipcode</th>\n",
       "      <th>lat</th>\n",
       "      <th>long</th>\n",
       "      <th>sqft_living15</th>\n",
       "      <th>sqft_lot15</th>\n",
       "    </tr>\n",
       "  </thead>\n",
       "  <tbody>\n",
       "    <tr>\n",
       "      <td>18419</td>\n",
       "      <td>5347200165</td>\n",
       "      <td>20141002T000000</td>\n",
       "      <td>265000.0</td>\n",
       "      <td>3</td>\n",
       "      <td>1.00</td>\n",
       "      <td>1070</td>\n",
       "      <td>4800</td>\n",
       "      <td>1.0</td>\n",
       "      <td>0</td>\n",
       "      <td>0</td>\n",
       "      <td>...</td>\n",
       "      <td>6</td>\n",
       "      <td>970</td>\n",
       "      <td>100</td>\n",
       "      <td>1947</td>\n",
       "      <td>0</td>\n",
       "      <td>98126</td>\n",
       "      <td>47.5187</td>\n",
       "      <td>-122.377</td>\n",
       "      <td>1120</td>\n",
       "      <td>1198</td>\n",
       "    </tr>\n",
       "    <tr>\n",
       "      <td>21049</td>\n",
       "      <td>8956200770</td>\n",
       "      <td>20140723T000000</td>\n",
       "      <td>549950.0</td>\n",
       "      <td>4</td>\n",
       "      <td>3.50</td>\n",
       "      <td>3906</td>\n",
       "      <td>9674</td>\n",
       "      <td>2.0</td>\n",
       "      <td>0</td>\n",
       "      <td>2</td>\n",
       "      <td>...</td>\n",
       "      <td>9</td>\n",
       "      <td>3906</td>\n",
       "      <td>0</td>\n",
       "      <td>2014</td>\n",
       "      <td>0</td>\n",
       "      <td>98001</td>\n",
       "      <td>47.2931</td>\n",
       "      <td>-122.264</td>\n",
       "      <td>2673</td>\n",
       "      <td>6500</td>\n",
       "    </tr>\n",
       "    <tr>\n",
       "      <td>12454</td>\n",
       "      <td>6450304630</td>\n",
       "      <td>20141201T000000</td>\n",
       "      <td>229000.0</td>\n",
       "      <td>2</td>\n",
       "      <td>1.00</td>\n",
       "      <td>810</td>\n",
       "      <td>5100</td>\n",
       "      <td>1.0</td>\n",
       "      <td>0</td>\n",
       "      <td>0</td>\n",
       "      <td>...</td>\n",
       "      <td>6</td>\n",
       "      <td>810</td>\n",
       "      <td>0</td>\n",
       "      <td>1955</td>\n",
       "      <td>0</td>\n",
       "      <td>98133</td>\n",
       "      <td>47.7317</td>\n",
       "      <td>-122.343</td>\n",
       "      <td>1500</td>\n",
       "      <td>5100</td>\n",
       "    </tr>\n",
       "    <tr>\n",
       "      <td>13141</td>\n",
       "      <td>7504001320</td>\n",
       "      <td>20141121T000000</td>\n",
       "      <td>570000.0</td>\n",
       "      <td>3</td>\n",
       "      <td>2.50</td>\n",
       "      <td>2420</td>\n",
       "      <td>11953</td>\n",
       "      <td>1.0</td>\n",
       "      <td>0</td>\n",
       "      <td>0</td>\n",
       "      <td>...</td>\n",
       "      <td>9</td>\n",
       "      <td>2420</td>\n",
       "      <td>0</td>\n",
       "      <td>1990</td>\n",
       "      <td>0</td>\n",
       "      <td>98074</td>\n",
       "      <td>47.6285</td>\n",
       "      <td>-122.054</td>\n",
       "      <td>2420</td>\n",
       "      <td>12215</td>\n",
       "    </tr>\n",
       "    <tr>\n",
       "      <td>16749</td>\n",
       "      <td>8944460190</td>\n",
       "      <td>20150225T000000</td>\n",
       "      <td>425000.0</td>\n",
       "      <td>4</td>\n",
       "      <td>2.50</td>\n",
       "      <td>2689</td>\n",
       "      <td>6688</td>\n",
       "      <td>2.0</td>\n",
       "      <td>0</td>\n",
       "      <td>0</td>\n",
       "      <td>...</td>\n",
       "      <td>9</td>\n",
       "      <td>2689</td>\n",
       "      <td>0</td>\n",
       "      <td>2006</td>\n",
       "      <td>0</td>\n",
       "      <td>98030</td>\n",
       "      <td>47.3803</td>\n",
       "      <td>-122.184</td>\n",
       "      <td>2665</td>\n",
       "      <td>5700</td>\n",
       "    </tr>\n",
       "    <tr>\n",
       "      <td>...</td>\n",
       "      <td>...</td>\n",
       "      <td>...</td>\n",
       "      <td>...</td>\n",
       "      <td>...</td>\n",
       "      <td>...</td>\n",
       "      <td>...</td>\n",
       "      <td>...</td>\n",
       "      <td>...</td>\n",
       "      <td>...</td>\n",
       "      <td>...</td>\n",
       "      <td>...</td>\n",
       "      <td>...</td>\n",
       "      <td>...</td>\n",
       "      <td>...</td>\n",
       "      <td>...</td>\n",
       "      <td>...</td>\n",
       "      <td>...</td>\n",
       "      <td>...</td>\n",
       "      <td>...</td>\n",
       "      <td>...</td>\n",
       "      <td>...</td>\n",
       "    </tr>\n",
       "    <tr>\n",
       "      <td>20142</td>\n",
       "      <td>8029770470</td>\n",
       "      <td>20140605T000000</td>\n",
       "      <td>550000.0</td>\n",
       "      <td>4</td>\n",
       "      <td>2.50</td>\n",
       "      <td>2700</td>\n",
       "      <td>5150</td>\n",
       "      <td>2.0</td>\n",
       "      <td>0</td>\n",
       "      <td>0</td>\n",
       "      <td>...</td>\n",
       "      <td>9</td>\n",
       "      <td>2700</td>\n",
       "      <td>0</td>\n",
       "      <td>2007</td>\n",
       "      <td>0</td>\n",
       "      <td>98059</td>\n",
       "      <td>47.5071</td>\n",
       "      <td>-122.148</td>\n",
       "      <td>3160</td>\n",
       "      <td>7620</td>\n",
       "    </tr>\n",
       "    <tr>\n",
       "      <td>1172</td>\n",
       "      <td>8956000350</td>\n",
       "      <td>20140903T000000</td>\n",
       "      <td>605000.0</td>\n",
       "      <td>3</td>\n",
       "      <td>2.50</td>\n",
       "      <td>2010</td>\n",
       "      <td>3667</td>\n",
       "      <td>2.0</td>\n",
       "      <td>0</td>\n",
       "      <td>0</td>\n",
       "      <td>...</td>\n",
       "      <td>9</td>\n",
       "      <td>2010</td>\n",
       "      <td>0</td>\n",
       "      <td>2008</td>\n",
       "      <td>0</td>\n",
       "      <td>98027</td>\n",
       "      <td>47.5450</td>\n",
       "      <td>-122.015</td>\n",
       "      <td>2350</td>\n",
       "      <td>3600</td>\n",
       "    </tr>\n",
       "    <tr>\n",
       "      <td>18039</td>\n",
       "      <td>2571910100</td>\n",
       "      <td>20141029T000000</td>\n",
       "      <td>344000.0</td>\n",
       "      <td>4</td>\n",
       "      <td>2.50</td>\n",
       "      <td>2100</td>\n",
       "      <td>8501</td>\n",
       "      <td>2.0</td>\n",
       "      <td>0</td>\n",
       "      <td>0</td>\n",
       "      <td>...</td>\n",
       "      <td>7</td>\n",
       "      <td>2100</td>\n",
       "      <td>0</td>\n",
       "      <td>1993</td>\n",
       "      <td>0</td>\n",
       "      <td>98022</td>\n",
       "      <td>47.1951</td>\n",
       "      <td>-122.010</td>\n",
       "      <td>2130</td>\n",
       "      <td>8560</td>\n",
       "    </tr>\n",
       "    <tr>\n",
       "      <td>18679</td>\n",
       "      <td>9264920870</td>\n",
       "      <td>20141023T000000</td>\n",
       "      <td>300000.0</td>\n",
       "      <td>3</td>\n",
       "      <td>2.25</td>\n",
       "      <td>1730</td>\n",
       "      <td>10030</td>\n",
       "      <td>1.0</td>\n",
       "      <td>0</td>\n",
       "      <td>0</td>\n",
       "      <td>...</td>\n",
       "      <td>8</td>\n",
       "      <td>1730</td>\n",
       "      <td>0</td>\n",
       "      <td>1985</td>\n",
       "      <td>0</td>\n",
       "      <td>98023</td>\n",
       "      <td>47.3108</td>\n",
       "      <td>-122.345</td>\n",
       "      <td>2090</td>\n",
       "      <td>8823</td>\n",
       "    </tr>\n",
       "    <tr>\n",
       "      <td>13756</td>\n",
       "      <td>1788900230</td>\n",
       "      <td>20140722T000000</td>\n",
       "      <td>86500.0</td>\n",
       "      <td>3</td>\n",
       "      <td>1.00</td>\n",
       "      <td>840</td>\n",
       "      <td>9480</td>\n",
       "      <td>1.0</td>\n",
       "      <td>0</td>\n",
       "      <td>0</td>\n",
       "      <td>...</td>\n",
       "      <td>6</td>\n",
       "      <td>840</td>\n",
       "      <td>0</td>\n",
       "      <td>1960</td>\n",
       "      <td>0</td>\n",
       "      <td>98023</td>\n",
       "      <td>47.3277</td>\n",
       "      <td>-122.341</td>\n",
       "      <td>840</td>\n",
       "      <td>9420</td>\n",
       "    </tr>\n",
       "  </tbody>\n",
       "</table>\n",
       "<p>21613 rows × 21 columns</p>\n",
       "</div>"
      ],
      "text/plain": [
       "               id             date     price  bedrooms  bathrooms  \\\n",
       "18419  5347200165  20141002T000000  265000.0         3       1.00   \n",
       "21049  8956200770  20140723T000000  549950.0         4       3.50   \n",
       "12454  6450304630  20141201T000000  229000.0         2       1.00   \n",
       "13141  7504001320  20141121T000000  570000.0         3       2.50   \n",
       "16749  8944460190  20150225T000000  425000.0         4       2.50   \n",
       "...           ...              ...       ...       ...        ...   \n",
       "20142  8029770470  20140605T000000  550000.0         4       2.50   \n",
       "1172   8956000350  20140903T000000  605000.0         3       2.50   \n",
       "18039  2571910100  20141029T000000  344000.0         4       2.50   \n",
       "18679  9264920870  20141023T000000  300000.0         3       2.25   \n",
       "13756  1788900230  20140722T000000   86500.0         3       1.00   \n",
       "\n",
       "       sqft_living  sqft_lot  floors  waterfront  view  ...  grade  \\\n",
       "18419         1070      4800     1.0           0     0  ...      6   \n",
       "21049         3906      9674     2.0           0     2  ...      9   \n",
       "12454          810      5100     1.0           0     0  ...      6   \n",
       "13141         2420     11953     1.0           0     0  ...      9   \n",
       "16749         2689      6688     2.0           0     0  ...      9   \n",
       "...            ...       ...     ...         ...   ...  ...    ...   \n",
       "20142         2700      5150     2.0           0     0  ...      9   \n",
       "1172          2010      3667     2.0           0     0  ...      9   \n",
       "18039         2100      8501     2.0           0     0  ...      7   \n",
       "18679         1730     10030     1.0           0     0  ...      8   \n",
       "13756          840      9480     1.0           0     0  ...      6   \n",
       "\n",
       "       sqft_above  sqft_basement  yr_built  yr_renovated  zipcode      lat  \\\n",
       "18419         970            100      1947             0    98126  47.5187   \n",
       "21049        3906              0      2014             0    98001  47.2931   \n",
       "12454         810              0      1955             0    98133  47.7317   \n",
       "13141        2420              0      1990             0    98074  47.6285   \n",
       "16749        2689              0      2006             0    98030  47.3803   \n",
       "...           ...            ...       ...           ...      ...      ...   \n",
       "20142        2700              0      2007             0    98059  47.5071   \n",
       "1172         2010              0      2008             0    98027  47.5450   \n",
       "18039        2100              0      1993             0    98022  47.1951   \n",
       "18679        1730              0      1985             0    98023  47.3108   \n",
       "13756         840              0      1960             0    98023  47.3277   \n",
       "\n",
       "          long  sqft_living15  sqft_lot15  \n",
       "18419 -122.377           1120        1198  \n",
       "21049 -122.264           2673        6500  \n",
       "12454 -122.343           1500        5100  \n",
       "13141 -122.054           2420       12215  \n",
       "16749 -122.184           2665        5700  \n",
       "...        ...            ...         ...  \n",
       "20142 -122.148           3160        7620  \n",
       "1172  -122.015           2350        3600  \n",
       "18039 -122.010           2130        8560  \n",
       "18679 -122.345           2090        8823  \n",
       "13756 -122.341            840        9420  \n",
       "\n",
       "[21613 rows x 21 columns]"
      ]
     },
     "execution_count": 5,
     "metadata": {},
     "output_type": "execute_result"
    }
   ],
   "source": [
    "complete = complete.sample(frac=1, replace=False)\n",
    "complete"
   ]
  },
  {
   "cell_type": "code",
   "execution_count": 6,
   "metadata": {},
   "outputs": [],
   "source": [
    "complete = complete.drop(['id','zipcode','long','lat','date'],1)"
   ]
  },
  {
   "cell_type": "code",
   "execution_count": 7,
   "metadata": {},
   "outputs": [
    {
     "data": {
      "text/plain": [
       "<matplotlib.axes._subplots.AxesSubplot at 0x251162e1e88>"
      ]
     },
     "execution_count": 7,
     "metadata": {},
     "output_type": "execute_result"
    },
    {
     "data": {
      "image/png": "[encoded data removed]",
      "text/plain": [
       "<Figure size 432x288 with 1 Axes>"
      ]
     },
     "metadata": {
      "needs_background": "light"
     },
     "output_type": "display_data"
    }
   ],
   "source": [
    "sns.stripplot(x='bedrooms', y='price',data=complete)"
   ]
  },
  {
   "cell_type": "code",
   "execution_count": 8,
   "metadata": {},
   "outputs": [
    {
     "data": {
      "text/plain": [
       "[<matplotlib.lines.Line2D at 0x251162ad448>]"
      ]
     },
     "execution_count": 8,
     "metadata": {},
     "output_type": "execute_result"
    },
    {
     "data": {
      "image/png": "[encoded data removed]",
      "text/plain": [
       "<Figure size 432x288 with 1 Axes>"
      ]
     },
     "metadata": {
      "needs_background": "light"
     },
     "output_type": "display_data"
    }
   ],
   "source": [
    "xplot =  complete['bedrooms']  \n",
    "yplot = complete['price']\n",
    "plt.plot(xplot, yplot, 'ro', ms=10, mec='k')"
   ]
  },
  {
   "cell_type": "code",
   "execution_count": 9,
   "metadata": {},
   "outputs": [
    {
     "data": {
      "image/png": "[encoded data removed]",
      "text/plain": [
       "<Figure size 432x288 with 2 Axes>"
      ]
     },
     "metadata": {
      "needs_background": "light"
     },
     "output_type": "display_data"
    }
   ],
   "source": [
    "names=['price','bedrooms','bathrooms','sqft_living','sqft_lot','floors','waterfront','view','condition','grade','sqft_above','sqft_basement','yr_built','yr_renovated','sqft_living15','sqft_lot15']\n",
    "df=complete[names]\n",
    "correlations= df.corr()\n",
    "fig=plt.figure()\n",
    "ax=fig.add_subplot(111)\n",
    "cax=ax.matshow(correlations,vmin=-1,vmax=1)\n",
    "fig.colorbar(cax)\n",
    "ticks=np.arange(0,15,1)\n",
    "ax.set_xticks(ticks)\n",
    "ax.set_yticks(ticks)\n",
    "plt.xticks(rotation=90)\n",
    "ax.set_xticklabels(names)\n",
    "ax.set_yticklabels(names)\n",
    "plt.show()"
   ]
  },
  {
   "cell_type": "code",
   "execution_count": 10,
   "metadata": {},
   "outputs": [],
   "source": [
    "y = complete['price']\n",
    "x = complete.drop(['price'],1)"
   ]
  },
  {
   "cell_type": "code",
   "execution_count": 11,
   "metadata": {},
   "outputs": [],
   "source": [
    "x = ( ( x - x.mean() ) / x.std() )\n",
    "size = x.shape[0]"
   ]
  },
  {
   "cell_type": "code",
   "execution_count": 12,
   "metadata": {},
   "outputs": [],
   "source": [
    "length1 = round((60/100) * size)\n",
    "length2 = round((20/100) * size)\n",
    "training = complete[:length1]\n",
    "y0 = training['price']\n",
    "x0 = training.drop(['price'],1)\n",
    "firstindex = length1 + 1\n",
    "lastindex = firstindex + length2 \n",
    "validation = complete[ firstindex : lastindex]\n",
    "y1 = validation['price']\n",
    "x1 = validation.drop(['price'],1)\n",
    "testing = complete[lastindex + 1 :]\n",
    "y2 = testing['price']\n",
    "x2 = testing.drop(['price'],1)"
   ]
  },
  {
   "cell_type": "code",
   "execution_count": 13,
   "metadata": {},
   "outputs": [],
   "source": [
    "x0 = ( ( x0 - x0.mean() ) / x0.std() )\n",
    "x1 = ( ( x1 - x1.mean() ) / x1.std() )\n",
    "x2 = ( ( x2 - x2.mean() ) / x2.std() )"
   ]
  },
  {
   "cell_type": "code",
   "execution_count": 14,
   "metadata": {},
   "outputs": [],
   "source": [
    "#Linear Regression first hypothesis\n",
    "m0 = y0.size\n",
    "m1 = y1.size\n",
    "m2 = y2.size\n",
    "x0 = np.concatenate([np.ones((m0, 1)), x0], axis=1)\n",
    "x1 = np.concatenate([np.ones((m1, 1)), x1], axis=1)\n",
    "x2 = np.concatenate([np.ones((m2, 1)), x2], axis=1)"
   ]
  },
  {
   "cell_type": "code",
   "execution_count": 15,
   "metadata": {},
   "outputs": [],
   "source": [
    "def computeCost(x,y,theta,lumda):\n",
    "    J = 0\n",
    "    m = y.size\n",
    "    H = np.dot(x,theta)\n",
    "    J = (1/(2*m))* sum((H - y) ** 2)\n",
    "    J = J + ( (lumda/(2*m)) * sum(theta**2) )\n",
    "    return J"
   ]
  },
  {
   "cell_type": "code",
   "execution_count": 16,
   "metadata": {},
   "outputs": [],
   "source": [
    "def gradientDescent(x, y, theta, alpha, num_iters,lumda):\n",
    "    m = y.size\n",
    "    J_history = []\n",
    "    alphabym=alpha/m\n",
    "    for i in range(num_iters):\n",
    "        H=np.dot(x,theta)\n",
    "        theta[0] = theta[0] - ( alphabym * sum( H - y ) )\n",
    "        theta[1:] = ( theta[1:] * (1-((alpha*lumda)/m)) ) - ( (alpha/m)* np.dot(x[:,1:].T,H-y) )\n",
    "        # save the cost J in every iteration\n",
    "        J_history.append(computeCost(x,y,theta,lumda))\n",
    "    return theta, J_history        "
   ]
  },
  {
   "cell_type": "code",
   "execution_count": 17,
   "metadata": {},
   "outputs": [
    {
     "data": {
      "text/plain": [
       "Text(0, 0.5, 'Cost J')"
      ]
     },
     "execution_count": 17,
     "metadata": {},
     "output_type": "execute_result"
    },
    {
     "data": {
      "image/png": "[encoded data removed]",
      "text/plain": [
       "<Figure size 432x288 with 1 Axes>"
      ]
     },
     "metadata": {
      "needs_background": "light"
     },
     "output_type": "display_data"
    }
   ],
   "source": [
    "# Training hyp1\n",
    "theta = np.zeros(16)\n",
    "iterations = 200\n",
    "alpha = 0.1\n",
    "lumda = 0.01\n",
    "theta, J_history = gradientDescent(x0 ,y0,theta,alpha,iterations,lumda)\n",
    "# plot Training hyp1\n",
    "plt.plot(np.arange(len(J_history)), J_history, lw=2)\n",
    "plt.xlabel('Number of iterations')\n",
    "plt.ylabel('Cost J')"
   ]
  },
  {
   "cell_type": "code",
   "execution_count": 18,
   "metadata": {},
   "outputs": [
    {
     "name": "stdout",
     "output_type": "stream",
     "text": [
      "[46062205285.04194, 46062208582.25772, 46062242015.7752, 46062280147.1198]\n",
      "0\n"
     ]
    },
    {
     "data": {
      "text/plain": [
       "0.01"
      ]
     },
     "execution_count": 18,
     "metadata": {},
     "output_type": "execute_result"
    }
   ],
   "source": [
    "# best lumda in hypothesis 1\n",
    "Arrlum = np.array([0.01,0.1,1,2])\n",
    "thetas = np.zeros((Arrlum.size,16))\n",
    "iterations = 200\n",
    "alpha = 0.1\n",
    "for i in range(Arrlum.size):\n",
    "    lumdacurrent = Arrlum[i]\n",
    "    thetas[i], J_history= gradientDescent(x0 ,y0,thetas[i],alpha,iterations,lumdacurrent)\n",
    "Error = []    \n",
    "for i in range(thetas.shape[0]):\n",
    "    thetacurr = thetas[i]\n",
    "    Hcurr = np.dot(x1,thetacurr) # x of validation times theta to be chosen\n",
    "    Errorcurr = sum((Hcurr - y1)**2 / x1.shape[0])\n",
    "    Error.append(Errorcurr)\n",
    "print(Error)\n",
    "index = np.argmin(Error)\n",
    "print(index)\n",
    "Arrlum[index]"
   ]
  },
  {
   "cell_type": "code",
   "execution_count": 19,
   "metadata": {},
   "outputs": [
    {
     "name": "stdout",
     "output_type": "stream",
     "text": [
      "46428125462.01137\n",
      "46062205285.04194\n",
      "48230174945.2866\n"
     ]
    }
   ],
   "source": [
    "# Calculating the Error of hyp 1 on train validation and testing\n",
    "Hyptrain = np.dot(x0,theta)\n",
    "trainerror = sum( (Hyptrain - y0)**2 / x0.shape[0])\n",
    "print(trainerror)\n",
    "Hypval = np.dot(x1,theta)\n",
    "valerror = sum( (Hypval - y1)**2 / x1.shape[0] )\n",
    "print(valerror)\n",
    "Hyptest = np.dot(x2,theta)\n",
    "testerror = sum( (Hyptest - y2) **2 / x2.shape[0])\n",
    "print(testerror)"
   ]
  },
  {
   "cell_type": "code",
   "execution_count": 20,
   "metadata": {},
   "outputs": [
    {
     "data": {
      "text/plain": [
       "Text(0, 0.5, 'Cost J')"
      ]
     },
     "execution_count": 20,
     "metadata": {},
     "output_type": "execute_result"
    },
    {
     "data": {
      "image/png": "[encoded data removed]",
      "text/plain": [
       "<Figure size 432x288 with 1 Axes>"
      ]
     },
     "metadata": {
      "needs_background": "light"
     },
     "output_type": "display_data"
    }
   ],
   "source": [
    "# Training hyp2\n",
    "theta2 = np.zeros(16)\n",
    "iterations = 100\n",
    "alpha = 0.001\n",
    "lumda = 0.01\n",
    "theta2, J_history2 = gradientDescent(x0**2 ,y0,theta2,alpha,iterations,lumda)\n",
    "# plot Training hyp2\n",
    "plt.plot(np.arange(len(J_history2)), J_history2, lw=2)\n",
    "plt.xlabel('Number of iterations')\n",
    "plt.ylabel('Cost J')"
   ]
  },
  {
   "cell_type": "code",
   "execution_count": 21,
   "metadata": {},
   "outputs": [
    {
     "name": "stdout",
     "output_type": "stream",
     "text": [
      "123841042108.83008\n",
      "110319027302.1841\n",
      "187664471363.45477\n"
     ]
    }
   ],
   "source": [
    "# Calculating the Error of hyp 1 on train validation and testing\n",
    "Hyptrain = np.dot(x0**2,theta2)\n",
    "trainerror = sum( (Hyptrain - y0)**2 / x0.shape[0])\n",
    "print(trainerror)\n",
    "Hypval = np.dot(x1**2,theta2)\n",
    "valerror = sum( (Hypval - y1)**2 / x1.shape[0] )\n",
    "print(valerror)\n",
    "Hyptest = np.dot(x2**2,theta2)\n",
    "testerror = sum( (Hyptest - y2) **2 / x2.shape[0])\n",
    "print(testerror)"
   ]
  },
  {
   "cell_type": "code",
   "execution_count": 22,
   "metadata": {},
   "outputs": [
    {
     "data": {
      "text/plain": [
       "Text(0, 0.5, 'Cost J')"
      ]
     },
     "execution_count": 22,
     "metadata": {},
     "output_type": "execute_result"
    },
    {
     "data": {
      "image/png": "[encoded data removed]",
      "text/plain": [
       "<Figure size 432x288 with 1 Axes>"
      ]
     },
     "metadata": {
      "needs_background": "light"
     },
     "output_type": "display_data"
    }
   ],
   "source": [
    "# Training hyp3\n",
    "theta3 = np.zeros(16)\n",
    "iterations = 100\n",
    "alpha = 0.000001\n",
    "lumda = 0.01\n",
    "theta3, J_history3 = gradientDescent(x0**3 ,y0,theta3,alpha,iterations,lumda)\n",
    "# plot Training hyp3\n",
    "plt.plot(np.arange(len(J_history3)), J_history3, lw=2)\n",
    "plt.xlabel('Number of iterations')\n",
    "plt.ylabel('Cost J')"
   ]
  },
  {
   "cell_type": "code",
   "execution_count": 23,
   "metadata": {},
   "outputs": [
    {
     "name": "stdout",
     "output_type": "stream",
     "text": [
      "397116928928.91785\n",
      "385527007671.4886\n",
      "404009734344.0364\n"
     ]
    }
   ],
   "source": [
    "# Calculating the Error of hyp 1 on train validation and testing\n",
    "Hyptrain = np.dot(x0**3,theta3)\n",
    "trainerror = sum( (Hyptrain - y0)**2 / x0.shape[0])\n",
    "print(trainerror)\n",
    "Hypval = np.dot(x1**3,theta3)\n",
    "valerror = sum( (Hypval - y1)**2 / x1.shape[0] )\n",
    "print(valerror)\n",
    "Hyptest = np.dot(x2**3,theta3)\n",
    "testerror = sum( (Hyptest - y2) **2 / x2.shape[0])\n",
    "print(testerror)"
   ]
  },
  {
   "cell_type": "code",
   "execution_count": null,
   "metadata": {},
   "outputs": [],
   "source": []
  },
  {
   "cell_type": "code",
   "execution_count": null,
   "metadata": {},
   "outputs": [],
   "source": []
  },
  {
   "cell_type": "code",
   "execution_count": null,
   "metadata": {},
   "outputs": [],
   "source": []
  },
  {
   "cell_type": "code",
   "execution_count": null,
   "metadata": {},
   "outputs": [],
   "source": []
  },
  {
   "cell_type": "code",
   "execution_count": null,
   "metadata": {},
   "outputs": [],
   "source": []
  },
  {
   "cell_type": "code",
   "execution_count": null,
   "metadata": {},
   "outputs": [],
   "source": []
  },
  {
   "cell_type": "code",
   "execution_count": null,
   "metadata": {},
   "outputs": [],
   "source": []
  }
 ],
 "metadata": {
  "kernelspec": {
   "display_name": "Python 3",
   "language": "python",
   "name": "python3"
  },
  "language_info": {
   "codemirror_mode": {
    "name": "ipython",
    "version": 3
   },
   "file_extension": ".py",
   "mimetype": "text/x-python",
   "name": "python",
   "nbconvert_exporter": "python",
   "pygments_lexer": "ipython3",
   "version": "3.7.4"
  }
 },
 "nbformat": 4,
 "nbformat_minor": 2
}
